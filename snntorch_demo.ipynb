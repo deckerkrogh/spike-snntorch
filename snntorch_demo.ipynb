{
 "cells": [
  {
   "cell_type": "code",
   "execution_count": 10,
   "id": "initial_id",
   "metadata": {
    "collapsed": true,
    "ExecuteTime": {
     "end_time": "2024-05-05T05:16:23.711060544Z",
     "start_time": "2024-05-05T05:16:23.702259387Z"
    }
   },
   "outputs": [],
   "source": [
    "# Following tutorial from https://github.com/jeshraghian/snntorch/blob/master/examples/tutorial_1_spikegen.ipynb\n",
    "import snntorch as snn\n",
    "import torch\n",
    "from torchvision import datasets, transforms"
   ]
  },
  {
   "cell_type": "code",
   "execution_count": 8,
   "outputs": [
    {
     "ename": "NameError",
     "evalue": "name 'transforms' is not defined",
     "output_type": "error",
     "traceback": [
      "\u001B[0;31m---------------------------------------------------------------------------\u001B[0m",
      "\u001B[0;31mNameError\u001B[0m                                 Traceback (most recent call last)",
      "Cell \u001B[0;32mIn[8], line 1\u001B[0m\n\u001B[0;32m----> 1\u001B[0m trainset \u001B[38;5;241m=\u001B[39m torchvision\u001B[38;5;241m.\u001B[39mdatasets\u001B[38;5;241m.\u001B[39mMNIST(\u001B[38;5;124m\"\u001B[39m\u001B[38;5;124m./data/\u001B[39m\u001B[38;5;124m\"\u001B[39m, train\u001B[38;5;241m=\u001B[39m\u001B[38;5;28;01mTrue\u001B[39;00m, transform\u001B[38;5;241m=\u001B[39m\u001B[43mtransforms\u001B[49m\u001B[38;5;241m.\u001B[39mToTensor(), download\u001B[38;5;241m=\u001B[39m\u001B[38;5;28;01mTrue\u001B[39;00m)\n",
      "\u001B[0;31mNameError\u001B[0m: name 'transforms' is not defined"
     ]
    }
   ],
   "source": [
    "# Pain in the ass, just download from kaggle\n",
    "# trainset = torchvision.datasets.MNIST(\"./data/\", train=True, transform=transforms.ToTensor(), download=True)"
   ],
   "metadata": {
    "collapsed": false,
    "ExecuteTime": {
     "end_time": "2024-05-05T05:11:05.443595071Z",
     "start_time": "2024-05-05T05:11:05.399957304Z"
    }
   },
   "id": "c5b5c9e0187411ff"
  },
  {
   "cell_type": "code",
   "execution_count": 12,
   "outputs": [],
   "source": [
    "# Training Parameters\n",
    "batch_size=128\n",
    "data_path='./data/mnist'\n",
    "num_classes = 10  # MNIST has 10 output classes\n",
    "\n",
    "# Torch Variables\n",
    "dtype = torch.float"
   ],
   "metadata": {
    "collapsed": false,
    "ExecuteTime": {
     "end_time": "2024-05-05T05:16:28.858994268Z",
     "start_time": "2024-05-05T05:16:28.817072630Z"
    }
   },
   "id": "1c055c191494306b"
  },
  {
   "cell_type": "code",
   "execution_count": 13,
   "outputs": [
    {
     "name": "stdout",
     "output_type": "stream",
     "text": [
      "Downloading http://yann.lecun.com/exdb/mnist/train-images-idx3-ubyte.gz\n",
      "Failed to download (trying next):\n",
      "HTTP Error 403: Forbidden\n",
      "\n",
      "Downloading https://ossci-datasets.s3.amazonaws.com/mnist/train-images-idx3-ubyte.gz\n",
      "Downloading https://ossci-datasets.s3.amazonaws.com/mnist/train-images-idx3-ubyte.gz to ./data/mnist/MNIST/raw/train-images-idx3-ubyte.gz\n"
     ]
    },
    {
     "name": "stderr",
     "output_type": "stream",
     "text": [
      "100.0%\n"
     ]
    },
    {
     "name": "stdout",
     "output_type": "stream",
     "text": [
      "Extracting ./data/mnist/MNIST/raw/train-images-idx3-ubyte.gz to ./data/mnist/MNIST/raw\n",
      "\n",
      "Downloading http://yann.lecun.com/exdb/mnist/train-labels-idx1-ubyte.gz\n",
      "Failed to download (trying next):\n",
      "HTTP Error 403: Forbidden\n",
      "\n",
      "Downloading https://ossci-datasets.s3.amazonaws.com/mnist/train-labels-idx1-ubyte.gz\n",
      "Downloading https://ossci-datasets.s3.amazonaws.com/mnist/train-labels-idx1-ubyte.gz to ./data/mnist/MNIST/raw/train-labels-idx1-ubyte.gz\n"
     ]
    },
    {
     "name": "stderr",
     "output_type": "stream",
     "text": [
      "100.0%\n"
     ]
    },
    {
     "name": "stdout",
     "output_type": "stream",
     "text": [
      "Extracting ./data/mnist/MNIST/raw/train-labels-idx1-ubyte.gz to ./data/mnist/MNIST/raw\n",
      "\n",
      "Downloading http://yann.lecun.com/exdb/mnist/t10k-images-idx3-ubyte.gz\n",
      "Failed to download (trying next):\n",
      "HTTP Error 403: Forbidden\n",
      "\n",
      "Downloading https://ossci-datasets.s3.amazonaws.com/mnist/t10k-images-idx3-ubyte.gz\n",
      "Downloading https://ossci-datasets.s3.amazonaws.com/mnist/t10k-images-idx3-ubyte.gz to ./data/mnist/MNIST/raw/t10k-images-idx3-ubyte.gz\n"
     ]
    },
    {
     "name": "stderr",
     "output_type": "stream",
     "text": [
      "100.0%\n"
     ]
    },
    {
     "name": "stdout",
     "output_type": "stream",
     "text": [
      "Extracting ./data/mnist/MNIST/raw/t10k-images-idx3-ubyte.gz to ./data/mnist/MNIST/raw\n",
      "\n",
      "Downloading http://yann.lecun.com/exdb/mnist/t10k-labels-idx1-ubyte.gz\n",
      "Failed to download (trying next):\n",
      "HTTP Error 403: Forbidden\n",
      "\n",
      "Downloading https://ossci-datasets.s3.amazonaws.com/mnist/t10k-labels-idx1-ubyte.gz\n",
      "Downloading https://ossci-datasets.s3.amazonaws.com/mnist/t10k-labels-idx1-ubyte.gz to ./data/mnist/MNIST/raw/t10k-labels-idx1-ubyte.gz\n"
     ]
    },
    {
     "name": "stderr",
     "output_type": "stream",
     "text": [
      "100.0%"
     ]
    },
    {
     "name": "stdout",
     "output_type": "stream",
     "text": [
      "Extracting ./data/mnist/MNIST/raw/t10k-labels-idx1-ubyte.gz to ./data/mnist/MNIST/raw\n"
     ]
    },
    {
     "name": "stderr",
     "output_type": "stream",
     "text": [
      "\n"
     ]
    }
   ],
   "source": [
    "# Define a transform\n",
    "transform = transforms.Compose([\n",
    "            transforms.Resize((28,28)),\n",
    "            transforms.Grayscale(),\n",
    "            transforms.ToTensor(),\n",
    "            transforms.Normalize((0,), (1,))])\n",
    "\n",
    "mnist_train = datasets.MNIST(data_path, train=True, download=True, transform=transform)"
   ],
   "metadata": {
    "collapsed": false,
    "ExecuteTime": {
     "end_time": "2024-05-05T05:16:35.101153291Z",
     "start_time": "2024-05-05T05:16:29.346047312Z"
    }
   },
   "id": "83eb76a72df645df"
  },
  {
   "cell_type": "code",
   "execution_count": 14,
   "outputs": [
    {
     "name": "stdout",
     "output_type": "stream",
     "text": [
      "The size of mnist_train is 6000\n"
     ]
    }
   ],
   "source": [
    "from snntorch import utils\n",
    "\n",
    "subset = 10\n",
    "mnist_train = utils.data_subset(mnist_train, subset)\n",
    "print(f\"The size of mnist_train is {len(mnist_train)}\")"
   ],
   "metadata": {
    "collapsed": false,
    "ExecuteTime": {
     "end_time": "2024-05-05T06:31:35.366214298Z",
     "start_time": "2024-05-05T06:31:35.318328867Z"
    }
   },
   "id": "ff7b0b2b930130f9"
  },
  {
   "cell_type": "code",
   "execution_count": 15,
   "outputs": [],
   "source": [
    "from torch.utils.data import DataLoader\n",
    "\n",
    "train_loader = DataLoader(mnist_train, batch_size=batch_size, shuffle=True)"
   ],
   "metadata": {
    "collapsed": false,
    "ExecuteTime": {
     "end_time": "2024-05-05T06:31:38.851801689Z",
     "start_time": "2024-05-05T06:31:38.844589204Z"
    }
   },
   "id": "ecbb66ea06d42f9b"
  },
  {
   "cell_type": "code",
   "execution_count": 22,
   "outputs": [
    {
     "name": "stdout",
     "output_type": "stream",
     "text": [
      "Converted vector: tensor([0., 0., 1., 0., 1., 0., 1., 0., 0., 0., 0., 0., 0., 0., 0., 1., 1., 1.,\n",
      "        1., 0., 0., 0., 1., 1., 0., 0., 0., 1., 1., 0., 1., 0., 0., 1., 1., 1.,\n",
      "        1., 0., 1., 0., 0., 1., 1., 1., 1., 1., 0., 0., 1., 0., 1., 0., 0., 1.,\n",
      "        1., 1., 0., 0., 0., 0., 0., 0., 0., 0., 1., 1., 1., 1., 1., 1., 0., 0.,\n",
      "        0., 0., 0., 0., 1., 1., 1., 0., 1., 0., 0., 0., 0., 0., 1., 1., 0., 0.,\n",
      "        0., 0., 0., 0., 1., 0., 0., 1., 0., 1.])\n",
      "The output is spiking 42.00% of the time.\n"
     ]
    }
   ],
   "source": [
    "# ------ Bernoulli example -------\n",
    "# Temporal Dynamics\n",
    "num_steps = 100\n",
    "\n",
    "# create vector filled with 0.5\n",
    "raw_vector = torch.ones(num_steps)*0.5\n",
    "\n",
    "# pass each sample through a Bernoulli trial\n",
    "rate_coded_vector = torch.bernoulli(raw_vector)\n",
    "print(f\"Converted vector: {rate_coded_vector}\")\n",
    "\n",
    "print(f\"The output is spiking {rate_coded_vector.sum()*100/len(rate_coded_vector):.2f}% of the time.\")"
   ],
   "metadata": {
    "collapsed": false,
    "ExecuteTime": {
     "end_time": "2024-05-05T06:36:02.304574499Z",
     "start_time": "2024-05-05T06:36:02.295005020Z"
    }
   },
   "id": "dea0840b0aa5ef7d"
  },
  {
   "cell_type": "code",
   "execution_count": 25,
   "outputs": [
    {
     "name": "stdout",
     "output_type": "stream",
     "text": [
      "torch.Size([100, 128, 1, 28, 28])\n"
     ]
    }
   ],
   "source": [
    "# ----- Rate Coding -----\n",
    "from snntorch import spikegen\n",
    "\n",
    "# Iterate through minibatches\n",
    "data = iter(train_loader)\n",
    "data_it, targets_it = next(data)\n",
    "\n",
    "# Spiking Data\n",
    "spike_data = spikegen.rate(data_it, num_steps=num_steps)\n",
    "print(spike_data.size())"
   ],
   "metadata": {
    "collapsed": false,
    "ExecuteTime": {
     "end_time": "2024-05-05T06:37:38.801811887Z",
     "start_time": "2024-05-05T06:37:38.648877389Z"
    }
   },
   "id": "87192bba2082b394"
  },
  {
   "cell_type": "code",
   "execution_count": 26,
   "outputs": [
    {
     "name": "stdout",
     "output_type": "stream",
     "text": [
      "torch.Size([100, 28, 28])\n"
     ]
    }
   ],
   "source": [
    "import matplotlib.pyplot as plt\n",
    "import snntorch.spikeplot as splt\n",
    "from IPython.display import HTML\n",
    "\n",
    "spike_data_sample = spike_data[:, 0, 0]\n",
    "print(spike_data_sample.size())"
   ],
   "metadata": {
    "collapsed": false,
    "ExecuteTime": {
     "end_time": "2024-05-05T06:39:01.156637651Z",
     "start_time": "2024-05-05T06:39:00.563243591Z"
    }
   },
   "id": "849676ca4e414ae5"
  },
  {
   "cell_type": "markdown",
   "source": [],
   "metadata": {
    "collapsed": false
   },
   "id": "b5bb775338f0b9c0"
  },
  {
   "cell_type": "code",
   "execution_count": 28,
   "outputs": [
    {
     "data": {
      "text/plain": "<IPython.core.display.HTML object>",
      "text/html": "<video width=\"640\" height=\"480\" controls autoplay loop>\n  <source type=\"video/mp4\" src=\"data:video/mp4;base64,AAAAIGZ0eXBNNFYgAAACAE00ViBpc29taXNvMmF2YzEAAAAIZnJlZQAAi6xtZGF0AAACrwYF//+r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\ndG9vAAAAHWRhdGEAAAABAAAAAExhdmY1OC43Ni4xMDA=\n\">\n  Your browser does not support the video tag.\n</video>"
     },
     "execution_count": 28,
     "metadata": {},
     "output_type": "execute_result"
    },
    {
     "data": {
      "text/plain": "<Figure size 640x480 with 1 Axes>",
      "image/png": "[encoded data removed]"
     },
     "metadata": {},
     "output_type": "display_data"
    }
   ],
   "source": [
    "fig, ax = plt.subplots()\n",
    "anim = splt.animator(spike_data_sample, fig, ax)\n",
    "# plt.rcParams['animation.ffmpeg_path'] = 'C:\\\\path\\\\to\\\\your\\\\ffmpeg.exe'\n",
    "\n",
    "HTML(anim.to_html5_video())"
   ],
   "metadata": {
    "collapsed": false,
    "ExecuteTime": {
     "end_time": "2024-05-05T06:40:23.497872709Z",
     "start_time": "2024-05-05T06:40:21.913280842Z"
    }
   },
   "id": "c3836af50b5a6f45"
  },
  {
   "cell_type": "code",
   "execution_count": null,
   "outputs": [],
   "source": [],
   "metadata": {
    "collapsed": false
   },
   "id": "19199b495c49942a"
  }
 ],
 "metadata": {
  "kernelspec": {
   "display_name": "Python 3",
   "language": "python",
   "name": "python3"
  },
  "language_info": {
   "codemirror_mode": {
    "name": "ipython",
    "version": 2
   },
   "file_extension": ".py",
   "mimetype": "text/x-python",
   "name": "python",
   "nbconvert_exporter": "python",
   "pygments_lexer": "ipython2",
   "version": "2.7.6"
  }
 },
 "nbformat": 4,
 "nbformat_minor": 5
}
